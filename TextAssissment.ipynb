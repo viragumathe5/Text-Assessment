{
 "cells": [
  {
   "cell_type": "code",
   "execution_count": 138,
   "metadata": {
    "scrolled": true
   },
   "outputs": [
    {
     "name": "stdout",
     "output_type": "stream",
     "text": [
      "today DATE\n"
     ]
    },
    {
     "data": {
      "image/png": "[encoded data removed]",
      "text/plain": [
       "<Figure size 432x288 with 1 Axes>"
      ]
     },
     "metadata": {
      "needs_background": "light"
     },
     "output_type": "display_data"
    }
   ],
   "source": [
    "from nltk.sentiment.vader import SentimentIntensityAnalyzer\n",
    "from nltk.corpus import stopwords\n",
    "#nltk.download('punkt')\n",
    "from nltk.tokenize import word_tokenize\n",
    "import spacy\n",
    "nlp = spacy.load('en_core_web_sm')\n",
    "import matplotlib.pyplot as plt\n",
    "\n",
    "\n",
    "sia = SentimentIntensityAnalyzer()\n",
    "\n",
    "text = open('sample.txt', 'r').read()\n",
    "#print(text)\n",
    "\n",
    "tokens = word_tokenize(text)\n",
    "\n",
    "#print(type(tokens))\n",
    "\n",
    "stopwords_removal = [word for word in tokens if not word in stopwords.words()]\n",
    "\n",
    "#print(type(stopwords_removal))\n",
    "\n",
    "new_words = [word for word in stopwords_removal if word.isalnum()]\n",
    "\n",
    "text2 = nlp(str(new_words))\n",
    "\n",
    "for ent in text2.ents:\n",
    "    print(ent.text, ent.label_)\n",
    "\n",
    "#len(new_words)\n",
    "\n",
    "#print(new_words)\n",
    "\n",
    "\n",
    "someRandom_var = sia.polarity_scores(str(new_words))\n",
    "\n",
    "list = []\n",
    "\n",
    "dict = sia.polarity_scores(str(new_words))\n",
    "\n",
    "for words in new_words:\n",
    "    temp = sia.polarity_scores(words)\n",
    "    list.append(temp['compound'])\n",
    "\n",
    "#print(len(list))\n",
    "\n",
    "x = []\n",
    "x = [someVar for someVar in range (len(list))]\n",
    "\n",
    "y = list\n",
    "\n",
    "plt.scatter(x, y, c = 'green')\n",
    "\n",
    "plt.show()\n"
   ]
  },
  {
   "cell_type": "code",
   "execution_count": null,
   "metadata": {},
   "outputs": [],
   "source": []
  }
 ],
 "metadata": {
  "kernelspec": {
   "display_name": "Python 3",
   "language": "python",
   "name": "python3"
  },
  "language_info": {
   "codemirror_mode": {
    "name": "ipython",
    "version": 3
   },
   "file_extension": ".py",
   "mimetype": "text/x-python",
   "name": "python",
   "nbconvert_exporter": "python",
   "pygments_lexer": "ipython3",
   "version": "3.7.6"
  }
 },
 "nbformat": 4,
 "nbformat_minor": 4
}
